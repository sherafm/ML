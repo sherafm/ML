{
 "cells": [
  {
   "cell_type": "markdown",
   "metadata": {},
   "source": [
    "# Import and data extraction"
   ]
  },
  {
   "cell_type": "code",
   "execution_count": 1,
   "metadata": {
    "collapsed": true
   },
   "outputs": [],
   "source": [
    "import pandas as pd\n",
    "import numpy as np\n",
    "import nltk\n",
    "from sklearn.preprocessing import LabelEncoder\n",
    "from sklearn.cross_validation import KFold\n",
    "from sklearn.ensemble import RandomForestRegressor\n",
    "import seaborn as sns\n",
    "import matplotlib.pyplot as plt\n",
    "%matplotlib inline"
   ]
  },
  {
   "cell_type": "code",
   "execution_count": 2,
   "metadata": {
    "collapsed": true
   },
   "outputs": [],
   "source": [
    "pd.set_option(\"display.max_columns\", 99)"
   ]
  },
  {
   "cell_type": "code",
   "execution_count": 3,
   "metadata": {
    "collapsed": false
   },
   "outputs": [],
   "source": [
    "train = pd.read_csv('data_challenge/boites_medicaments_train.csv',\n",
    "                    encoding='utf-8',\n",
    "                    sep=';')"
   ]
  },
  {
   "cell_type": "code",
   "execution_count": 4,
   "metadata": {
    "collapsed": false
   },
   "outputs": [],
   "source": [
    "test = pd.read_csv('data_challenge/boites_medicaments_test.csv',\n",
    "                    encoding='utf-8',\n",
    "                    sep=';')"
   ]
  },
  {
   "cell_type": "code",
   "execution_count": 5,
   "metadata": {
    "collapsed": false,
    "scrolled": true
   },
   "outputs": [
    {
     "name": "stdout",
     "output_type": "stream",
     "text": [
      "(8564, 41) (3671, 41)\n"
     ]
    }
   ],
   "source": [
    "print train.shape, test.shape"
   ]
  },
  {
   "cell_type": "code",
   "execution_count": 6,
   "metadata": {
    "collapsed": false
   },
   "outputs": [
    {
     "data": {
      "text/html": [
       "<div>\n",
       "<table border=\"1\" class=\"dataframe\">\n",
       "  <thead>\n",
       "    <tr style=\"text-align: right;\">\n",
       "      <th></th>\n",
       "      <th>libelle</th>\n",
       "      <th>libelle_plaquette</th>\n",
       "      <th>libelle_ampoule</th>\n",
       "      <th>libelle_flacon</th>\n",
       "      <th>libelle_tube</th>\n",
       "      <th>libelle_stylo</th>\n",
       "      <th>libelle_seringue</th>\n",
       "      <th>libelle_pilulier</th>\n",
       "      <th>libelle_sachet</th>\n",
       "      <th>libelle_comprime</th>\n",
       "      <th>libelle_gelule</th>\n",
       "      <th>libelle_film</th>\n",
       "      <th>libelle_poche</th>\n",
       "      <th>libelle_capsule</th>\n",
       "      <th>nb_plaquette</th>\n",
       "      <th>nb_ampoule</th>\n",
       "      <th>nb_flacon</th>\n",
       "      <th>nb_tube</th>\n",
       "      <th>nb_stylo</th>\n",
       "      <th>nb_seringue</th>\n",
       "      <th>nb_pilulier</th>\n",
       "      <th>nb_sachet</th>\n",
       "      <th>nb_comprime</th>\n",
       "      <th>nb_gelule</th>\n",
       "      <th>nb_film</th>\n",
       "      <th>nb_poche</th>\n",
       "      <th>nb_capsule</th>\n",
       "      <th>nb_ml</th>\n",
       "      <th>statut</th>\n",
       "      <th>etat commerc</th>\n",
       "      <th>agrement col</th>\n",
       "      <th>tx rembours</th>\n",
       "      <th>forme pharma</th>\n",
       "      <th>voies admin</th>\n",
       "      <th>statut admin</th>\n",
       "      <th>date declar annee</th>\n",
       "      <th>date amm annee</th>\n",
       "      <th>type proc</th>\n",
       "      <th>titulaires</th>\n",
       "      <th>substances</th>\n",
       "      <th>prix</th>\n",
       "    </tr>\n",
       "  </thead>\n",
       "  <tbody>\n",
       "    <tr>\n",
       "      <th>0</th>\n",
       "      <td>3 plaquette(s) thermoformée(s) PVC-Aluminium d...</td>\n",
       "      <td>1</td>\n",
       "      <td>0</td>\n",
       "      <td>0</td>\n",
       "      <td>0</td>\n",
       "      <td>0</td>\n",
       "      <td>0</td>\n",
       "      <td>0</td>\n",
       "      <td>0</td>\n",
       "      <td>1</td>\n",
       "      <td>0</td>\n",
       "      <td>0</td>\n",
       "      <td>0</td>\n",
       "      <td>0</td>\n",
       "      <td>3</td>\n",
       "      <td>0</td>\n",
       "      <td>0</td>\n",
       "      <td>0</td>\n",
       "      <td>0</td>\n",
       "      <td>0</td>\n",
       "      <td>0</td>\n",
       "      <td>0</td>\n",
       "      <td>28</td>\n",
       "      <td>0</td>\n",
       "      <td>0</td>\n",
       "      <td>0</td>\n",
       "      <td>0</td>\n",
       "      <td>0</td>\n",
       "      <td>Présentation active</td>\n",
       "      <td>Déclaration de commercialisation</td>\n",
       "      <td>oui</td>\n",
       "      <td>65%</td>\n",
       "      <td>comprimé pelliculé</td>\n",
       "      <td>orale</td>\n",
       "      <td>Autorisation active</td>\n",
       "      <td>2014</td>\n",
       "      <td>2014</td>\n",
       "      <td>Procédure décentralisée</td>\n",
       "      <td>MAJORELLE LUXEMBOURG SOPARFI (LUXEMBOURG)</td>\n",
       "      <td>DÉSOGESTREL</td>\n",
       "      <td>2.83</td>\n",
       "    </tr>\n",
       "    <tr>\n",
       "      <th>1</th>\n",
       "      <td>plaquette(s) thermoformée(s) aluminium de 28 c...</td>\n",
       "      <td>1</td>\n",
       "      <td>0</td>\n",
       "      <td>0</td>\n",
       "      <td>0</td>\n",
       "      <td>0</td>\n",
       "      <td>0</td>\n",
       "      <td>0</td>\n",
       "      <td>0</td>\n",
       "      <td>1</td>\n",
       "      <td>0</td>\n",
       "      <td>0</td>\n",
       "      <td>0</td>\n",
       "      <td>0</td>\n",
       "      <td>0</td>\n",
       "      <td>0</td>\n",
       "      <td>0</td>\n",
       "      <td>0</td>\n",
       "      <td>0</td>\n",
       "      <td>0</td>\n",
       "      <td>0</td>\n",
       "      <td>0</td>\n",
       "      <td>28</td>\n",
       "      <td>0</td>\n",
       "      <td>0</td>\n",
       "      <td>0</td>\n",
       "      <td>0</td>\n",
       "      <td>0</td>\n",
       "      <td>Présentation active</td>\n",
       "      <td>Déclaration de commercialisation</td>\n",
       "      <td>oui</td>\n",
       "      <td>65%</td>\n",
       "      <td>comprimé à croquer</td>\n",
       "      <td>orale</td>\n",
       "      <td>Autorisation active</td>\n",
       "      <td>2013</td>\n",
       "      <td>2009</td>\n",
       "      <td>Procédure de reconnaissance mutuelle</td>\n",
       "      <td>TEVA SANTE</td>\n",
       "      <td>MONTÉLUKAST ACIDE, MONTÉLUKAST SODIQUE</td>\n",
       "      <td>14.30</td>\n",
       "    </tr>\n",
       "    <tr>\n",
       "      <th>2</th>\n",
       "      <td>plaquette(s) thermoformée(s) PVC-aluminium de ...</td>\n",
       "      <td>1</td>\n",
       "      <td>0</td>\n",
       "      <td>0</td>\n",
       "      <td>0</td>\n",
       "      <td>0</td>\n",
       "      <td>0</td>\n",
       "      <td>0</td>\n",
       "      <td>0</td>\n",
       "      <td>0</td>\n",
       "      <td>1</td>\n",
       "      <td>0</td>\n",
       "      <td>0</td>\n",
       "      <td>0</td>\n",
       "      <td>0</td>\n",
       "      <td>0</td>\n",
       "      <td>0</td>\n",
       "      <td>0</td>\n",
       "      <td>0</td>\n",
       "      <td>0</td>\n",
       "      <td>0</td>\n",
       "      <td>0</td>\n",
       "      <td>0</td>\n",
       "      <td>30</td>\n",
       "      <td>0</td>\n",
       "      <td>0</td>\n",
       "      <td>0</td>\n",
       "      <td>0</td>\n",
       "      <td>Présentation active</td>\n",
       "      <td>Déclaration de commercialisation</td>\n",
       "      <td>oui</td>\n",
       "      <td>65%</td>\n",
       "      <td>gélule à libération prolongée</td>\n",
       "      <td>orale</td>\n",
       "      <td>Autorisation active</td>\n",
       "      <td>2000</td>\n",
       "      <td>1996</td>\n",
       "      <td>Procédure nationale</td>\n",
       "      <td>MYLAN SAS</td>\n",
       "      <td>CHLORHYDRATE DE DILTIAZEM</td>\n",
       "      <td>5.66</td>\n",
       "    </tr>\n",
       "    <tr>\n",
       "      <th>3</th>\n",
       "      <td>30 sachet(s)-dose(s) papier aluminium complexe...</td>\n",
       "      <td>0</td>\n",
       "      <td>0</td>\n",
       "      <td>0</td>\n",
       "      <td>0</td>\n",
       "      <td>0</td>\n",
       "      <td>0</td>\n",
       "      <td>0</td>\n",
       "      <td>1</td>\n",
       "      <td>0</td>\n",
       "      <td>0</td>\n",
       "      <td>0</td>\n",
       "      <td>0</td>\n",
       "      <td>0</td>\n",
       "      <td>0</td>\n",
       "      <td>0</td>\n",
       "      <td>0</td>\n",
       "      <td>0</td>\n",
       "      <td>0</td>\n",
       "      <td>0</td>\n",
       "      <td>0</td>\n",
       "      <td>30</td>\n",
       "      <td>0</td>\n",
       "      <td>0</td>\n",
       "      <td>0</td>\n",
       "      <td>0</td>\n",
       "      <td>0</td>\n",
       "      <td>0</td>\n",
       "      <td>Présentation active</td>\n",
       "      <td>Déclaration de commercialisation</td>\n",
       "      <td>oui</td>\n",
       "      <td>65%</td>\n",
       "      <td>granulés à libération prolongée</td>\n",
       "      <td>orale</td>\n",
       "      <td>Autorisation active</td>\n",
       "      <td>2005</td>\n",
       "      <td>2004</td>\n",
       "      <td>Procédure nationale</td>\n",
       "      <td>SANOFI AVENTIS FRANCE</td>\n",
       "      <td>ACIDE VALPROÏQUE, VALPROATE DE SODIUM</td>\n",
       "      <td>24.27</td>\n",
       "    </tr>\n",
       "    <tr>\n",
       "      <th>4</th>\n",
       "      <td>plaquette(s) thermoformée(s) PVC-Aluminium de ...</td>\n",
       "      <td>1</td>\n",
       "      <td>0</td>\n",
       "      <td>0</td>\n",
       "      <td>0</td>\n",
       "      <td>0</td>\n",
       "      <td>0</td>\n",
       "      <td>0</td>\n",
       "      <td>0</td>\n",
       "      <td>1</td>\n",
       "      <td>0</td>\n",
       "      <td>0</td>\n",
       "      <td>0</td>\n",
       "      <td>0</td>\n",
       "      <td>0</td>\n",
       "      <td>0</td>\n",
       "      <td>0</td>\n",
       "      <td>0</td>\n",
       "      <td>0</td>\n",
       "      <td>0</td>\n",
       "      <td>0</td>\n",
       "      <td>0</td>\n",
       "      <td>30</td>\n",
       "      <td>0</td>\n",
       "      <td>0</td>\n",
       "      <td>0</td>\n",
       "      <td>0</td>\n",
       "      <td>0</td>\n",
       "      <td>Présentation active</td>\n",
       "      <td>Déclaration d'arrêt de commercialisation</td>\n",
       "      <td>non</td>\n",
       "      <td>100%</td>\n",
       "      <td>comprimé pelliculé</td>\n",
       "      <td>orale</td>\n",
       "      <td>Autorisation active</td>\n",
       "      <td>2015</td>\n",
       "      <td>2010</td>\n",
       "      <td>Procédure nationale</td>\n",
       "      <td>TEVA SANTE</td>\n",
       "      <td>LÉTROZOLE</td>\n",
       "      <td>59.94</td>\n",
       "    </tr>\n",
       "  </tbody>\n",
       "</table>\n",
       "</div>"
      ],
      "text/plain": [
       "                                             libelle  libelle_plaquette  \\\n",
       "0  3 plaquette(s) thermoformée(s) PVC-Aluminium d...                  1   \n",
       "1  plaquette(s) thermoformée(s) aluminium de 28 c...                  1   \n",
       "2  plaquette(s) thermoformée(s) PVC-aluminium de ...                  1   \n",
       "3  30 sachet(s)-dose(s) papier aluminium complexe...                  0   \n",
       "4  plaquette(s) thermoformée(s) PVC-Aluminium de ...                  1   \n",
       "\n",
       "   libelle_ampoule  libelle_flacon  libelle_tube  libelle_stylo  \\\n",
       "0                0               0             0              0   \n",
       "1                0               0             0              0   \n",
       "2                0               0             0              0   \n",
       "3                0               0             0              0   \n",
       "4                0               0             0              0   \n",
       "\n",
       "   libelle_seringue  libelle_pilulier  libelle_sachet  libelle_comprime  \\\n",
       "0                 0                 0               0                 1   \n",
       "1                 0                 0               0                 1   \n",
       "2                 0                 0               0                 0   \n",
       "3                 0                 0               1                 0   \n",
       "4                 0                 0               0                 1   \n",
       "\n",
       "   libelle_gelule  libelle_film  libelle_poche  libelle_capsule  nb_plaquette  \\\n",
       "0               0             0              0                0             3   \n",
       "1               0             0              0                0             0   \n",
       "2               1             0              0                0             0   \n",
       "3               0             0              0                0             0   \n",
       "4               0             0              0                0             0   \n",
       "\n",
       "   nb_ampoule  nb_flacon  nb_tube  nb_stylo  nb_seringue  nb_pilulier  \\\n",
       "0           0          0        0         0            0            0   \n",
       "1           0          0        0         0            0            0   \n",
       "2           0          0        0         0            0            0   \n",
       "3           0          0        0         0            0            0   \n",
       "4           0          0        0         0            0            0   \n",
       "\n",
       "   nb_sachet  nb_comprime  nb_gelule  nb_film  nb_poche  nb_capsule  nb_ml  \\\n",
       "0          0           28          0        0         0           0      0   \n",
       "1          0           28          0        0         0           0      0   \n",
       "2          0            0         30        0         0           0      0   \n",
       "3         30            0          0        0         0           0      0   \n",
       "4          0           30          0        0         0           0      0   \n",
       "\n",
       "                statut                              etat commerc agrement col  \\\n",
       "0  Présentation active          Déclaration de commercialisation          oui   \n",
       "1  Présentation active          Déclaration de commercialisation          oui   \n",
       "2  Présentation active          Déclaration de commercialisation          oui   \n",
       "3  Présentation active          Déclaration de commercialisation          oui   \n",
       "4  Présentation active  Déclaration d'arrêt de commercialisation          non   \n",
       "\n",
       "  tx rembours                     forme pharma voies admin  \\\n",
       "0         65%               comprimé pelliculé       orale   \n",
       "1         65%               comprimé à croquer       orale   \n",
       "2         65%    gélule à libération prolongée       orale   \n",
       "3         65%  granulés à libération prolongée       orale   \n",
       "4        100%               comprimé pelliculé       orale   \n",
       "\n",
       "          statut admin  date declar annee  date amm annee  \\\n",
       "0  Autorisation active               2014            2014   \n",
       "1  Autorisation active               2013            2009   \n",
       "2  Autorisation active               2000            1996   \n",
       "3  Autorisation active               2005            2004   \n",
       "4  Autorisation active               2015            2010   \n",
       "\n",
       "                              type proc  \\\n",
       "0               Procédure décentralisée   \n",
       "1  Procédure de reconnaissance mutuelle   \n",
       "2                   Procédure nationale   \n",
       "3                   Procédure nationale   \n",
       "4                   Procédure nationale   \n",
       "\n",
       "                                   titulaires  \\\n",
       "0   MAJORELLE LUXEMBOURG SOPARFI (LUXEMBOURG)   \n",
       "1                                  TEVA SANTE   \n",
       "2                                   MYLAN SAS   \n",
       "3                       SANOFI AVENTIS FRANCE   \n",
       "4                                  TEVA SANTE   \n",
       "\n",
       "                               substances   prix  \n",
       "0                             DÉSOGESTREL   2.83  \n",
       "1  MONTÉLUKAST ACIDE, MONTÉLUKAST SODIQUE  14.30  \n",
       "2               CHLORHYDRATE DE DILTIAZEM   5.66  \n",
       "3   ACIDE VALPROÏQUE, VALPROATE DE SODIUM  24.27  \n",
       "4                               LÉTROZOLE  59.94  "
      ]
     },
     "execution_count": 6,
     "metadata": {},
     "output_type": "execute_result"
    }
   ],
   "source": [
    "train.head()"
   ]
  },
  {
   "cell_type": "code",
   "execution_count": 7,
   "metadata": {
    "collapsed": false,
    "scrolled": true
   },
   "outputs": [
    {
     "data": {
      "text/html": [
       "<div>\n",
       "<table border=\"1\" class=\"dataframe\">\n",
       "  <thead>\n",
       "    <tr style=\"text-align: right;\">\n",
       "      <th></th>\n",
       "      <th>id</th>\n",
       "      <th>libelle</th>\n",
       "      <th>libelle_plaquette</th>\n",
       "      <th>libelle_ampoule</th>\n",
       "      <th>libelle_flacon</th>\n",
       "      <th>libelle_tube</th>\n",
       "      <th>libelle_stylo</th>\n",
       "      <th>libelle_seringue</th>\n",
       "      <th>libelle_pilulier</th>\n",
       "      <th>libelle_sachet</th>\n",
       "      <th>libelle_comprime</th>\n",
       "      <th>libelle_gelule</th>\n",
       "      <th>libelle_film</th>\n",
       "      <th>libelle_poche</th>\n",
       "      <th>libelle_capsule</th>\n",
       "      <th>nb_plaquette</th>\n",
       "      <th>nb_ampoule</th>\n",
       "      <th>nb_flacon</th>\n",
       "      <th>nb_tube</th>\n",
       "      <th>nb_stylo</th>\n",
       "      <th>nb_seringue</th>\n",
       "      <th>nb_pilulier</th>\n",
       "      <th>nb_sachet</th>\n",
       "      <th>nb_comprime</th>\n",
       "      <th>nb_gelule</th>\n",
       "      <th>nb_film</th>\n",
       "      <th>nb_poche</th>\n",
       "      <th>nb_capsule</th>\n",
       "      <th>nb_ml</th>\n",
       "      <th>statut</th>\n",
       "      <th>etat commerc</th>\n",
       "      <th>agrement col</th>\n",
       "      <th>tx rembours</th>\n",
       "      <th>forme pharma</th>\n",
       "      <th>voies admin</th>\n",
       "      <th>statut admin</th>\n",
       "      <th>date declar annee</th>\n",
       "      <th>date amm annee</th>\n",
       "      <th>type proc</th>\n",
       "      <th>titulaires</th>\n",
       "      <th>substances</th>\n",
       "    </tr>\n",
       "  </thead>\n",
       "  <tbody>\n",
       "    <tr>\n",
       "      <th>0</th>\n",
       "      <td>1</td>\n",
       "      <td>plaquette(s) thermoformée(s) polyamide alumini...</td>\n",
       "      <td>1</td>\n",
       "      <td>0</td>\n",
       "      <td>0</td>\n",
       "      <td>0</td>\n",
       "      <td>0</td>\n",
       "      <td>0</td>\n",
       "      <td>0</td>\n",
       "      <td>0</td>\n",
       "      <td>1</td>\n",
       "      <td>0</td>\n",
       "      <td>0</td>\n",
       "      <td>0</td>\n",
       "      <td>0</td>\n",
       "      <td>0</td>\n",
       "      <td>0</td>\n",
       "      <td>0</td>\n",
       "      <td>0</td>\n",
       "      <td>0</td>\n",
       "      <td>0</td>\n",
       "      <td>0</td>\n",
       "      <td>0</td>\n",
       "      <td>14</td>\n",
       "      <td>0</td>\n",
       "      <td>0</td>\n",
       "      <td>0</td>\n",
       "      <td>0</td>\n",
       "      <td>0</td>\n",
       "      <td>Présentation active</td>\n",
       "      <td>Déclaration d'arrêt de commercialisation</td>\n",
       "      <td>non</td>\n",
       "      <td>65%</td>\n",
       "      <td>comprimé gastro-résistant(e)</td>\n",
       "      <td>orale</td>\n",
       "      <td>Autorisation active</td>\n",
       "      <td>2013</td>\n",
       "      <td>2008</td>\n",
       "      <td>Procédure de reconnaissance mutuelle</td>\n",
       "      <td>TEVA SANTE</td>\n",
       "      <td>PANTOPRAZOLE SODIQUE SESQUIHYDRATÉ, PANTOPRAZOLE</td>\n",
       "    </tr>\n",
       "    <tr>\n",
       "      <th>1</th>\n",
       "      <td>2</td>\n",
       "      <td>plaquette(s) thermoformée(s) PVC PVDC aluminiu...</td>\n",
       "      <td>1</td>\n",
       "      <td>0</td>\n",
       "      <td>0</td>\n",
       "      <td>0</td>\n",
       "      <td>0</td>\n",
       "      <td>0</td>\n",
       "      <td>0</td>\n",
       "      <td>0</td>\n",
       "      <td>0</td>\n",
       "      <td>0</td>\n",
       "      <td>0</td>\n",
       "      <td>0</td>\n",
       "      <td>1</td>\n",
       "      <td>0</td>\n",
       "      <td>0</td>\n",
       "      <td>0</td>\n",
       "      <td>0</td>\n",
       "      <td>0</td>\n",
       "      <td>0</td>\n",
       "      <td>0</td>\n",
       "      <td>0</td>\n",
       "      <td>0</td>\n",
       "      <td>0</td>\n",
       "      <td>0</td>\n",
       "      <td>0</td>\n",
       "      <td>6</td>\n",
       "      <td>0</td>\n",
       "      <td>Présentation active</td>\n",
       "      <td>Déclaration de commercialisation</td>\n",
       "      <td>non</td>\n",
       "      <td>30%</td>\n",
       "      <td>capsule</td>\n",
       "      <td>vaginale</td>\n",
       "      <td>Autorisation active</td>\n",
       "      <td>2012</td>\n",
       "      <td>1997</td>\n",
       "      <td>Procédure nationale</td>\n",
       "      <td>INNOTECH INTERNATIONAL</td>\n",
       "      <td>NYSTATINE, SULFATE DE POLYMYXINE B, SULFATE DE...</td>\n",
       "    </tr>\n",
       "    <tr>\n",
       "      <th>2</th>\n",
       "      <td>3</td>\n",
       "      <td>plaquette(s) thermoformée(s) PVC-Aluminium de ...</td>\n",
       "      <td>1</td>\n",
       "      <td>0</td>\n",
       "      <td>0</td>\n",
       "      <td>0</td>\n",
       "      <td>0</td>\n",
       "      <td>0</td>\n",
       "      <td>0</td>\n",
       "      <td>0</td>\n",
       "      <td>1</td>\n",
       "      <td>0</td>\n",
       "      <td>0</td>\n",
       "      <td>0</td>\n",
       "      <td>0</td>\n",
       "      <td>0</td>\n",
       "      <td>0</td>\n",
       "      <td>0</td>\n",
       "      <td>0</td>\n",
       "      <td>0</td>\n",
       "      <td>0</td>\n",
       "      <td>0</td>\n",
       "      <td>0</td>\n",
       "      <td>84</td>\n",
       "      <td>0</td>\n",
       "      <td>0</td>\n",
       "      <td>0</td>\n",
       "      <td>0</td>\n",
       "      <td>0</td>\n",
       "      <td>Présentation active</td>\n",
       "      <td>Déclaration d'arrêt de commercialisation</td>\n",
       "      <td>non</td>\n",
       "      <td>65%</td>\n",
       "      <td>comprimé</td>\n",
       "      <td>orale</td>\n",
       "      <td>Autorisation abrogée</td>\n",
       "      <td>2013</td>\n",
       "      <td>2006</td>\n",
       "      <td>Procédure nationale</td>\n",
       "      <td>ACTAVIS FRANCE</td>\n",
       "      <td>PRAVASTATINE SODIQUE</td>\n",
       "    </tr>\n",
       "    <tr>\n",
       "      <th>3</th>\n",
       "      <td>4</td>\n",
       "      <td>5 cartouche(s) en verre de 3 ml dans stylo pré...</td>\n",
       "      <td>0</td>\n",
       "      <td>0</td>\n",
       "      <td>0</td>\n",
       "      <td>0</td>\n",
       "      <td>1</td>\n",
       "      <td>0</td>\n",
       "      <td>0</td>\n",
       "      <td>0</td>\n",
       "      <td>0</td>\n",
       "      <td>0</td>\n",
       "      <td>0</td>\n",
       "      <td>0</td>\n",
       "      <td>0</td>\n",
       "      <td>0</td>\n",
       "      <td>0</td>\n",
       "      <td>0</td>\n",
       "      <td>0</td>\n",
       "      <td>0</td>\n",
       "      <td>0</td>\n",
       "      <td>0</td>\n",
       "      <td>0</td>\n",
       "      <td>0</td>\n",
       "      <td>0</td>\n",
       "      <td>0</td>\n",
       "      <td>0</td>\n",
       "      <td>0</td>\n",
       "      <td>3</td>\n",
       "      <td>Présentation active</td>\n",
       "      <td>Déclaration d'arrêt de commercialisation</td>\n",
       "      <td>non</td>\n",
       "      <td>65%</td>\n",
       "      <td>suspension injectable</td>\n",
       "      <td>sous-cutanée</td>\n",
       "      <td>Autorisation active</td>\n",
       "      <td>2012</td>\n",
       "      <td>2000</td>\n",
       "      <td>Procédure centralisée</td>\n",
       "      <td>SANOFI AVENTIS (ALLEMAGNE)</td>\n",
       "      <td>INSULINE HUMAINE RECOMBINANTE ISOPHANE BIPHASI...</td>\n",
       "    </tr>\n",
       "    <tr>\n",
       "      <th>4</th>\n",
       "      <td>5</td>\n",
       "      <td>5 poche(s) à 3 compartiments polyamide polypro...</td>\n",
       "      <td>0</td>\n",
       "      <td>0</td>\n",
       "      <td>0</td>\n",
       "      <td>0</td>\n",
       "      <td>0</td>\n",
       "      <td>0</td>\n",
       "      <td>0</td>\n",
       "      <td>0</td>\n",
       "      <td>0</td>\n",
       "      <td>0</td>\n",
       "      <td>0</td>\n",
       "      <td>1</td>\n",
       "      <td>0</td>\n",
       "      <td>0</td>\n",
       "      <td>0</td>\n",
       "      <td>0</td>\n",
       "      <td>0</td>\n",
       "      <td>0</td>\n",
       "      <td>0</td>\n",
       "      <td>0</td>\n",
       "      <td>0</td>\n",
       "      <td>0</td>\n",
       "      <td>0</td>\n",
       "      <td>0</td>\n",
       "      <td>5</td>\n",
       "      <td>0</td>\n",
       "      <td>1875</td>\n",
       "      <td>Présentation active</td>\n",
       "      <td>Déclaration de commercialisation</td>\n",
       "      <td>oui</td>\n",
       "      <td>65%</td>\n",
       "      <td>émulsion pour perfusion</td>\n",
       "      <td>intraveineuse</td>\n",
       "      <td>Autorisation active</td>\n",
       "      <td>2011</td>\n",
       "      <td>2011</td>\n",
       "      <td>Procédure décentralisée</td>\n",
       "      <td>B BRAUN MELSUNGEN</td>\n",
       "      <td>PHOSPHATE MONOSODIQUE DIHYDRATÉ, ARGININE, MAG...</td>\n",
       "    </tr>\n",
       "  </tbody>\n",
       "</table>\n",
       "</div>"
      ],
      "text/plain": [
       "   id                                            libelle  libelle_plaquette  \\\n",
       "0   1  plaquette(s) thermoformée(s) polyamide alumini...                  1   \n",
       "1   2  plaquette(s) thermoformée(s) PVC PVDC aluminiu...                  1   \n",
       "2   3  plaquette(s) thermoformée(s) PVC-Aluminium de ...                  1   \n",
       "3   4  5 cartouche(s) en verre de 3 ml dans stylo pré...                  0   \n",
       "4   5  5 poche(s) à 3 compartiments polyamide polypro...                  0   \n",
       "\n",
       "   libelle_ampoule  libelle_flacon  libelle_tube  libelle_stylo  \\\n",
       "0                0               0             0              0   \n",
       "1                0               0             0              0   \n",
       "2                0               0             0              0   \n",
       "3                0               0             0              1   \n",
       "4                0               0             0              0   \n",
       "\n",
       "   libelle_seringue  libelle_pilulier  libelle_sachet  libelle_comprime  \\\n",
       "0                 0                 0               0                 1   \n",
       "1                 0                 0               0                 0   \n",
       "2                 0                 0               0                 1   \n",
       "3                 0                 0               0                 0   \n",
       "4                 0                 0               0                 0   \n",
       "\n",
       "   libelle_gelule  libelle_film  libelle_poche  libelle_capsule  nb_plaquette  \\\n",
       "0               0             0              0                0             0   \n",
       "1               0             0              0                1             0   \n",
       "2               0             0              0                0             0   \n",
       "3               0             0              0                0             0   \n",
       "4               0             0              1                0             0   \n",
       "\n",
       "   nb_ampoule  nb_flacon  nb_tube  nb_stylo  nb_seringue  nb_pilulier  \\\n",
       "0           0          0        0         0            0            0   \n",
       "1           0          0        0         0            0            0   \n",
       "2           0          0        0         0            0            0   \n",
       "3           0          0        0         0            0            0   \n",
       "4           0          0        0         0            0            0   \n",
       "\n",
       "   nb_sachet  nb_comprime  nb_gelule  nb_film  nb_poche  nb_capsule  nb_ml  \\\n",
       "0          0           14          0        0         0           0      0   \n",
       "1          0            0          0        0         0           6      0   \n",
       "2          0           84          0        0         0           0      0   \n",
       "3          0            0          0        0         0           0      3   \n",
       "4          0            0          0        0         5           0   1875   \n",
       "\n",
       "                statut                              etat commerc agrement col  \\\n",
       "0  Présentation active  Déclaration d'arrêt de commercialisation          non   \n",
       "1  Présentation active          Déclaration de commercialisation          non   \n",
       "2  Présentation active  Déclaration d'arrêt de commercialisation          non   \n",
       "3  Présentation active  Déclaration d'arrêt de commercialisation          non   \n",
       "4  Présentation active          Déclaration de commercialisation          oui   \n",
       "\n",
       "  tx rembours                  forme pharma    voies admin  \\\n",
       "0         65%  comprimé gastro-résistant(e)          orale   \n",
       "1         30%                       capsule       vaginale   \n",
       "2         65%                      comprimé          orale   \n",
       "3         65%         suspension injectable   sous-cutanée   \n",
       "4         65%       émulsion pour perfusion  intraveineuse   \n",
       "\n",
       "           statut admin  date declar annee  date amm annee  \\\n",
       "0   Autorisation active               2013            2008   \n",
       "1   Autorisation active               2012            1997   \n",
       "2  Autorisation abrogée               2013            2006   \n",
       "3   Autorisation active               2012            2000   \n",
       "4   Autorisation active               2011            2011   \n",
       "\n",
       "                              type proc                   titulaires  \\\n",
       "0  Procédure de reconnaissance mutuelle                   TEVA SANTE   \n",
       "1                   Procédure nationale       INNOTECH INTERNATIONAL   \n",
       "2                   Procédure nationale               ACTAVIS FRANCE   \n",
       "3                 Procédure centralisée   SANOFI AVENTIS (ALLEMAGNE)   \n",
       "4               Procédure décentralisée            B BRAUN MELSUNGEN   \n",
       "\n",
       "                                          substances  \n",
       "0   PANTOPRAZOLE SODIQUE SESQUIHYDRATÉ, PANTOPRAZOLE  \n",
       "1  NYSTATINE, SULFATE DE POLYMYXINE B, SULFATE DE...  \n",
       "2                               PRAVASTATINE SODIQUE  \n",
       "3  INSULINE HUMAINE RECOMBINANTE ISOPHANE BIPHASI...  \n",
       "4  PHOSPHATE MONOSODIQUE DIHYDRATÉ, ARGININE, MAG...  "
      ]
     },
     "execution_count": 7,
     "metadata": {},
     "output_type": "execute_result"
    }
   ],
   "source": [
    "test.head()"
   ]
  },
  {
   "cell_type": "markdown",
   "metadata": {},
   "source": [
    "# Data description"
   ]
  },
  {
   "cell_type": "code",
   "execution_count": 8,
   "metadata": {
    "collapsed": false,
    "scrolled": true
   },
   "outputs": [
    {
     "data": {
      "text/plain": [
       "<matplotlib.axes._subplots.AxesSubplot at 0x10b51ad50>"
      ]
     },
     "execution_count": 8,
     "metadata": {},
     "output_type": "execute_result"
    },
    {
     "data": {
      "image/png": "[encoded data removed]",
      "text/plain": [
       "<matplotlib.figure.Figure at 0x10b44b890>"
      ]
     },
     "metadata": {},
     "output_type": "display_data"
    }
   ],
   "source": [
    "train['prix'].hist(color=\"red\")"
   ]
  },
  {
   "cell_type": "code",
   "execution_count": 13,
   "metadata": {
    "collapsed": false
   },
   "outputs": [
    {
     "data": {
      "text/plain": [
       "<matplotlib.axes._subplots.AxesSubplot at 0x10bb66cd0>"
      ]
     },
     "execution_count": 13,
     "metadata": {},
     "output_type": "execute_result"
    },
    {
     "data": {
      "image/png": "[encoded data removed]",
      "text/plain": [
       "<matplotlib.figure.Figure at 0x103fd4150>"
      ]
     },
     "metadata": {},
     "output_type": "display_data"
    }
   ],
   "source": [
    "# The distribution above is too large\n",
    "# Thus, we will use logs instead\n",
    "\n",
    "train['logprix'] = train['prix'].apply(np.log)\n",
    "train['logprix'].hist()"
   ]
  },
  {
   "cell_type": "code",
   "execution_count": 14,
   "metadata": {
    "collapsed": false
   },
   "outputs": [
    {
     "data": {
      "text/plain": [
       "<matplotlib.axes._subplots.AxesSubplot at 0x10d270950>"
      ]
     },
     "execution_count": 14,
     "metadata": {},
     "output_type": "execute_result"
    },
    {
     "name": "stderr",
     "output_type": "stream",
     "text": [
      "/Users/Sheraf/anaconda/lib/python2.7/site-packages/matplotlib/collections.py:590: FutureWarning: elementwise comparison failed; returning scalar instead, but in the future will perform elementwise comparison\n",
      "  if self._edgecolors == str('face'):\n"
     ]
    },
    {
     "data": {
      "image/png": "[encoded data removed]",
      "text/plain": [
       "<matplotlib.figure.Figure at 0x10bb36b90>"
      ]
     },
     "metadata": {},
     "output_type": "display_data"
    }
   ],
   "source": [
    "sns.violinplot(y=\"logprix\", x=\"tx rembours\", data=train)\n",
    "\n",
    "# We are trying to estimate the influence\n",
    "# of the column \"tx rembours\" on the log(prix)"
   ]
  },
  {
   "cell_type": "code",
   "execution_count": 15,
   "metadata": {
    "collapsed": false,
    "scrolled": true
   },
   "outputs": [
    {
     "data": {
      "text/plain": [
       "<matplotlib.axes._subplots.AxesSubplot at 0x10d522950>"
      ]
     },
     "execution_count": 15,
     "metadata": {},
     "output_type": "execute_result"
    },
    {
     "data": {
      "image/png": "[encoded data removed]",
      "text/plain": [
       "<matplotlib.figure.Figure at 0x10d570790>"
      ]
     },
     "metadata": {},
     "output_type": "display_data"
    }
   ],
   "source": [
    "sns.boxplot(y=\"logprix\", x=\"statut\", data=train)\n",
    "\n",
    "# Influence of \"statut\" on the price"
   ]
  },
  {
   "cell_type": "markdown",
   "metadata": {},
   "source": [
    "# Data formatting & Engineering"
   ]
  },
  {
   "cell_type": "code",
   "execution_count": 9,
   "metadata": {
    "collapsed": false,
    "scrolled": true
   },
   "outputs": [],
   "source": [
    "tokens = []\n",
    "for subs in train.substances.values:\n",
    "    tokens.append(len(subs.split(\",\")))\n",
    "    \n",
    "tokens2 = []\n",
    "for subs in test.substances.values:\n",
    "    tokens2.append(len(subs.split(\",\")))"
   ]
  },
  {
   "cell_type": "code",
   "execution_count": 10,
   "metadata": {
    "collapsed": false
   },
   "outputs": [],
   "source": [
    "train['tokens'] = tokens\n",
    "test['tokens'] = tokens2"
   ]
  },
  {
   "cell_type": "code",
   "execution_count": 11,
   "metadata": {
    "collapsed": true
   },
   "outputs": [],
   "source": [
    "train['length'] = train['substances'].apply(len)\n",
    "test['length'] = test['substances'].apply(len)"
   ]
  },
  {
   "cell_type": "code",
   "execution_count": 38,
   "metadata": {
    "collapsed": true
   },
   "outputs": [],
   "source": [
    "# Columns features categorization\n",
    "\n",
    "# numbers\n",
    "feat_num = ['libelle_plaquette', 'libelle_ampoule', 'libelle_flacon', \n",
    "            'libelle_tube', 'libelle_stylo', 'libelle_seringue',\n",
    "            'libelle_pilulier', 'libelle_sachet', 'libelle_comprime', \n",
    "            'libelle_gelule', 'libelle_film', 'libelle_poche',\n",
    "            'libelle_capsule'] + ['nb_plaquette', 'nb_ampoule', \n",
    "            'nb_flacon', 'nb_tube', 'nb_stylo', 'nb_seringue',\n",
    "            'nb_pilulier', 'nb_sachet', 'nb_comprime', 'nb_gelule', \n",
    "            'nb_film', 'nb_poche', 'nb_capsule', 'nb_ml']\n",
    "\n",
    "# dates\n",
    "feat_dates = ['date declar annee', 'date amm annee']\n",
    "\n",
    "# \"categories\"\n",
    "feat_cat = ['statut', 'etat commerc', 'agrement col', 'tx rembours',\n",
    "          'voies admin', 'statut admin', 'type proc']\n",
    "# \"strings\"\n",
    "feat_text = ['libelle', 'titulaires', 'substances', 'forme pharma']\n",
    "\n",
    "length = ['length']"
   ]
  },
  {
   "cell_type": "code",
   "execution_count": 39,
   "metadata": {
    "collapsed": true
   },
   "outputs": [],
   "source": [
    "# LabelEncoder() will help us \n",
    "# to convert categories into numbers,\n",
    "# so imputs will be valid for the ML algorithm\n",
    "\n",
    "for cat in feat_cat:\n",
    "    le = LabelEncoder()\n",
    "    le.fit(train[cat].append(test[cat]))\n",
    "    train[cat] = le.transform(train[cat])\n",
    "    test[cat] = le.transform(test[cat])"
   ]
  },
  {
   "cell_type": "markdown",
   "metadata": {},
   "source": [
    "# Model Creation"
   ]
  },
  {
   "cell_type": "code",
   "execution_count": 40,
   "metadata": {
    "collapsed": true
   },
   "outputs": [],
   "source": [
    "def mape_error(y_true, y_pred):\n",
    "    '''\n",
    "    Mean Absolute Percentage Error\n",
    "    Cost function not included on scikit-learn\n",
    "    '''\n",
    "    return np.mean(np.abs((y_true - y_pred) / y_true)) * 100"
   ]
  },
  {
   "cell_type": "code",
   "execution_count": 41,
   "metadata": {
    "collapsed": false
   },
   "outputs": [
    {
     "name": "stdout",
     "output_type": "stream",
     "text": [
      "52.0663794439\n",
      "48.9462516277\n",
      "46.1305660142\n",
      "47.2053101136\n",
      "45.2623674209\n",
      "*** MAPE Error : 47.922174924\n"
     ]
    }
   ],
   "source": [
    "err = 0\n",
    "NBROUND = 5\n",
    "FEATURES = feat_num+feat_cat+feat_dates+length # Features used for this model\n",
    "for train_index, test_index in KFold(train.shape[0], n_folds=NBROUND):\n",
    "    y = train['logprix']\n",
    "    X = train[FEATURES]\n",
    "    X_train, X_test = X.ix[train_index, :], X.ix[test_index, :]\n",
    "    y_train, y_test = y[train_index], y[test_index]\n",
    "    clf = RandomForestRegressor()\n",
    "    clf.fit(X_train, y_train)\n",
    "    pred = clf.predict(X_test)\n",
    "    # We apply the exp function to cancel the log\n",
    "    err += mape_error(np.exp(y_test), np.exp(pred))\n",
    "    print mape_error(np.exp(y_test), np.exp(pred))\n",
    "print \"*** MAPE Error :\", err / NBROUND\n",
    "# Estimation of the cost percentage"
   ]
  },
  {
   "cell_type": "markdown",
   "metadata": {},
   "source": [
    "# Submission"
   ]
  },
  {
   "cell_type": "code",
   "execution_count": 146,
   "metadata": {
    "collapsed": false
   },
   "outputs": [],
   "source": [
    "clf = RandomForestRegressor()\n",
    "# The model is trained again, but this time on the whole dataset\n",
    "clf.fit(train[FEATURES], train['logprix'])\n",
    "predictions = np.exp(clf.predict(test[feat_num+feat_cat+feat_dates+length]))"
   ]
  },
  {
   "cell_type": "code",
   "execution_count": 147,
   "metadata": {
    "collapsed": false
   },
   "outputs": [],
   "source": [
    "pd.DataFrame(predictions, index=test['id']).to_csv('soumission2.csv',\n",
    "                        header=['prix'],\n",
    "                        sep = ';')"
   ]
  },
  {
   "cell_type": "code",
   "execution_count": null,
   "metadata": {
    "collapsed": true
   },
   "outputs": [],
   "source": []
  }
 ],
 "metadata": {
  "kernelspec": {
   "display_name": "Python 2",
   "language": "python",
   "name": "python2"
  },
  "language_info": {
   "codemirror_mode": {
    "name": "ipython",
    "version": 2
   },
   "file_extension": ".py",
   "mimetype": "text/x-python",
   "name": "python",
   "nbconvert_exporter": "python",
   "pygments_lexer": "ipython2",
   "version": "2.7.10"
  }
 },
 "nbformat": 4,
 "nbformat_minor": 0
}
